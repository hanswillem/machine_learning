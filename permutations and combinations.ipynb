{
  "nbformat": 4,
  "nbformat_minor": 0,
  "metadata": {
    "colab": {
      "name": "permutations and combinations",
      "version": "0.3.2",
      "views": {},
      "default_view": {},
      "provenance": [],
      "collapsed_sections": []
    }
  },
  "cells": [
    {
      "metadata": {
        "id": "Mn8vSfXoxp-g",
        "colab_type": "text"
      },
      "source": [
        "# Permutations and combinations"
      ],
      "cell_type": "markdown"
    },
    {
      "metadata": {
        "id": "2y4dSTYfuRlf",
        "colab_type": "code",
        "colab": {
          "autoexec": {
            "startup": false,
            "wait_interval": 0
          }
        }
      },
      "source": [
        "import math\n",
        "import itertools"
      ],
      "cell_type": "code",
      "execution_count": 0,
      "outputs": []
    },
    {
      "metadata": {
        "id": "iybTLASj6MBT",
        "colab_type": "text"
      },
      "source": [
        "## Permutation\n",
        "If you choose $k$ elements from a set of $n$ elements and every element can only be chosen once, how many sets of k elements can you make?\n",
        "When order matters it is a permutation:"
      ],
      "cell_type": "markdown"
    },
    {
      "metadata": {
        "id": "TMmJtB5a5tVh",
        "colab_type": "text"
      },
      "source": [
        "$$ \\binom{n}{k} = \\frac{n!}{(n-k)!} $$"
      ],
      "cell_type": "markdown"
    },
    {
      "metadata": {
        "id": "4xYRtk7-w7tI",
        "colab_type": "code",
        "colab": {
          "autoexec": {
            "startup": false,
            "wait_interval": 0
          }
        }
      },
      "source": [
        "def permutations(n, k):  \n",
        "  return math.factorial(n) / math.factorial(n - k)"
      ],
      "cell_type": "code",
      "execution_count": 0,
      "outputs": []
    },
    {
      "metadata": {
        "id": "aT8_VEuv46LH",
        "colab_type": "text"
      },
      "source": [
        "## Combination\n",
        "If order doesn't matter it is a combination."
      ],
      "cell_type": "markdown"
    },
    {
      "metadata": {
        "id": "02Fn1jGM59L1",
        "colab_type": "text"
      },
      "source": [
        "$$ \\binom{n}{k} = \\frac{n!}{k!(n-k)!}  $$"
      ],
      "cell_type": "markdown"
    },
    {
      "metadata": {
        "id": "5qbTf7zZxEG9",
        "colab_type": "code",
        "colab": {
          "autoexec": {
            "startup": false,
            "wait_interval": 0
          }
        }
      },
      "source": [
        "def combinations(n, k):\n",
        "  return math.factorial(n) / (math.factorial(n - k) * math.factorial(k))"
      ],
      "cell_type": "code",
      "execution_count": 0,
      "outputs": []
    }
  ]
}