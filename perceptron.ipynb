{
 "cells": [
  {
   "cell_type": "markdown",
   "metadata": {},
   "source": [
    "# Perceptron / supervised learning"
   ]
  },
  {
   "cell_type": "code",
   "execution_count": 121,
   "metadata": {},
   "outputs": [],
   "source": [
    "class Perceptron(object):\n",
    "    \n",
    "    #the perceptron is initialised with two weights set to zero\n",
    "    def __init__(self):\n",
    "        self.weights = [0, 0]\n",
    "        self.learningConstant = 0.1\n",
    "        \n",
    "    def feedForward(self, inputs): \n",
    "        s = 0\n",
    "        for i in range(len(inputs)):\n",
    "            s += inputs[i] * self.weights[i]\n",
    "        return self.activation(s)\n",
    "    \n",
    "        if s > 0:\n",
    "            return 1\n",
    "        else:\n",
    "            return -1\n",
    "    \n",
    "    #training function, inputs should be combined with the known outputs to those inputs\n",
    "    def train(self, inputs, known):\n",
    "        \n",
    "        guess = self.feedForward(inputs)\n",
    "        error = known - guess\n",
    "       \n",
    "        #adjust weights\n",
    "        for i in range(len(self.weights)):\n",
    "            self.weights[i] += error * inputs[i] * self.learningConstant"
   ]
  },
  {
   "cell_type": "raw",
   "metadata": {},
   "source": [
    "p = Perceptron()"
   ]
  },
  {
   "cell_type": "code",
   "execution_count": 124,
   "metadata": {
    "collapsed": true
   },
   "outputs": [],
   "source": []
  }
 ],
 "metadata": {
  "kernelspec": {
   "display_name": "Python [Root]",
   "language": "python",
   "name": "Python [Root]"
  },
  "language_info": {
   "codemirror_mode": {
    "name": "ipython",
    "version": 3
   },
   "file_extension": ".py",
   "mimetype": "text/x-python",
   "name": "python",
   "nbconvert_exporter": "python",
   "pygments_lexer": "ipython3",
   "version": "3.5.3"
  }
 },
 "nbformat": 4,
 "nbformat_minor": 2
}
